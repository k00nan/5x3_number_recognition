{
  "nbformat": 4,
  "nbformat_minor": 0,
  "metadata": {
    "colab": {
      "provenance": [],
      "authorship_tag": "ABX9TyO910GWsEfWguNTi5EMm8+k",
      "include_colab_link": true
    },
    "kernelspec": {
      "name": "python3",
      "display_name": "Python 3"
    },
    "language_info": {
      "name": "python"
    }
  },
  "cells": [
    {
      "cell_type": "markdown",
      "metadata": {
        "id": "view-in-github",
        "colab_type": "text"
      },
      "source": [
        "<a href=\"https://colab.research.google.com/github/k00nan/5x3_number_recognition/blob/main/5x3_number_recognition.ipynb\" target=\"_parent\"><img src=\"https://colab.research.google.com/assets/colab-badge.svg\" alt=\"Open In Colab\"/></a>"
      ]
    },
    {
      "cell_type": "code",
      "execution_count": null,
      "metadata": {
        "id": "nwgtQcHLMM-5"
      },
      "outputs": [],
      "source": [
        "import numpy as np\n",
        "from tensorflow import keras\n",
        "from keras import layers, models"
      ]
    },
    {
      "cell_type": "code",
      "source": [
        "# Beispiel-Datensatz von Ziffern\n",
        "digits = {\n",
        "    0: [[1, 1, 1],\n",
        "        [1, 0, 1],\n",
        "        [1, 0, 1],\n",
        "        [1, 0, 1],\n",
        "        [1, 1, 1]],\n",
        "\n",
        "    1: [[0, 1, 0],\n",
        "        [0, 1, 0],\n",
        "        [0, 1, 0],\n",
        "        [0, 1, 0],\n",
        "        [0, 1, 0]],\n",
        "\n",
        "    2: [[1, 1, 1],\n",
        "        [0, 0, 1],\n",
        "        [1, 1, 1],\n",
        "        [1, 0, 0],\n",
        "        [1, 1, 1]],\n",
        "\n",
        "    3: [[1, 1, 1],\n",
        "        [0, 0, 1],\n",
        "        [1, 1, 1],\n",
        "        [0, 0, 1],\n",
        "        [1, 1, 1]],\n",
        "\n",
        "    4: [[1, 0, 1],\n",
        "        [1, 0, 1],\n",
        "        [1, 1, 1],\n",
        "        [0, 0, 1],\n",
        "        [0, 0, 1]],\n",
        "\n",
        "    5: [[1, 1, 1],\n",
        "        [1, 0, 0],\n",
        "        [1, 1, 1],\n",
        "        [0, 0, 1],\n",
        "        [1, 1, 1]],\n",
        "\n",
        "    6: [[1, 1, 1],\n",
        "        [1, 0, 0],\n",
        "        [1, 1, 1],\n",
        "        [1, 0, 1],\n",
        "        [1, 1, 1]],\n",
        "\n",
        "    7: [[1, 1, 1],\n",
        "        [0, 0, 1],\n",
        "        [0, 0, 1],\n",
        "        [0, 0, 1],\n",
        "        [0, 0, 1]],\n",
        "\n",
        "    8: [[1, 1, 1],\n",
        "        [1, 0, 1],\n",
        "        [1, 1, 1],\n",
        "        [1, 0, 1],\n",
        "        [1, 1, 1]],\n",
        "\n",
        "    9: [[1, 1, 1],\n",
        "        [1, 0, 1],\n",
        "        [1, 1, 1],\n",
        "        [0, 0, 1],\n",
        "        [1, 1, 1]]\n",
        "}"
      ],
      "metadata": {
        "id": "wCKGP0XdQtSj"
      },
      "execution_count": null,
      "outputs": []
    },
    {
      "cell_type": "code",
      "source": [
        "# Datensatz in NumPy-Array konvertieren\n",
        "X = []\n",
        "y = []\n",
        "for label, img in digits.items():\n",
        "    X.append(img)\n",
        "    y.append(label)\n",
        "# Listen in NumPy-Arrays umwandeln\n",
        "X = np.array(X)\n",
        "y = np.array(y)"
      ],
      "metadata": {
        "id": "Z2T3Wr6FQh7Y"
      },
      "execution_count": null,
      "outputs": []
    },
    {
      "cell_type": "code",
      "source": [
        "# CNN-Modell erstellen\n",
        "model = models.Sequential([\n",
        "    layers.Reshape((5, 3, 1), input_shape=(5, 3)),  # Eingangsschicht für das 5x3 Gitter\n",
        "    layers.Conv2D(32, (3, 3), activation='relu'),  # Faltungsschicht\n",
        "    layers.Flatten(),  # Flachschicht für den Fully Connected Teil des Netzes\n",
        "    layers.Dense(64, activation='relu'),  # Fully Connected Layer\n",
        "    layers.Dense(10, activation='softmax')  # Ausgangsschicht mit Softmax-Aktivierung für die Klassifizierung\n",
        "])"
      ],
      "metadata": {
        "id": "_zpmYiWmP-jB"
      },
      "execution_count": null,
      "outputs": []
    },
    {
      "cell_type": "code",
      "source": [
        "# Modell kompilieren\n",
        "model.compile(optimizer='adam',\n",
        "              loss='sparse_categorical_crossentropy',\n",
        "              metrics=['accuracy'])"
      ],
      "metadata": {
        "id": "FEypYACoRYn_"
      },
      "execution_count": null,
      "outputs": []
    },
    {
      "cell_type": "code",
      "source": [
        "# Modell trainieren\n",
        "model.fit(X, y, epochs=20, batch_size=1)"
      ],
      "metadata": {
        "colab": {
          "base_uri": "https://localhost:8080/"
        },
        "id": "cBWAgbeERakR",
        "outputId": "1df2e032-ea22-4142-f717-b5b34c98e34e"
      },
      "execution_count": null,
      "outputs": [
        {
          "output_type": "stream",
          "name": "stdout",
          "text": [
            "Epoch 1/20\n",
            "10/10 [==============================] - 0s 2ms/step - loss: 0.0747 - accuracy: 1.0000\n",
            "Epoch 2/20\n",
            "10/10 [==============================] - 0s 2ms/step - loss: 0.0693 - accuracy: 1.0000\n",
            "Epoch 3/20\n",
            "10/10 [==============================] - 0s 2ms/step - loss: 0.0663 - accuracy: 1.0000\n",
            "Epoch 4/20\n",
            "10/10 [==============================] - 0s 2ms/step - loss: 0.0635 - accuracy: 1.0000\n",
            "Epoch 5/20\n",
            "10/10 [==============================] - 0s 2ms/step - loss: 0.0616 - accuracy: 1.0000\n",
            "Epoch 6/20\n",
            "10/10 [==============================] - 0s 2ms/step - loss: 0.0586 - accuracy: 1.0000\n",
            "Epoch 7/20\n",
            "10/10 [==============================] - 0s 2ms/step - loss: 0.0555 - accuracy: 1.0000\n",
            "Epoch 8/20\n",
            "10/10 [==============================] - 0s 2ms/step - loss: 0.0552 - accuracy: 1.0000\n",
            "Epoch 9/20\n",
            "10/10 [==============================] - 0s 2ms/step - loss: 0.0516 - accuracy: 1.0000\n",
            "Epoch 10/20\n",
            "10/10 [==============================] - 0s 2ms/step - loss: 0.0496 - accuracy: 1.0000\n",
            "Epoch 11/20\n",
            "10/10 [==============================] - 0s 3ms/step - loss: 0.0472 - accuracy: 1.0000\n",
            "Epoch 12/20\n",
            "10/10 [==============================] - 0s 2ms/step - loss: 0.0470 - accuracy: 1.0000\n",
            "Epoch 13/20\n",
            "10/10 [==============================] - 0s 3ms/step - loss: 0.0440 - accuracy: 1.0000\n",
            "Epoch 14/20\n",
            "10/10 [==============================] - 0s 3ms/step - loss: 0.0420 - accuracy: 1.0000\n",
            "Epoch 15/20\n",
            "10/10 [==============================] - 0s 2ms/step - loss: 0.0404 - accuracy: 1.0000\n",
            "Epoch 16/20\n",
            "10/10 [==============================] - 0s 3ms/step - loss: 0.0385 - accuracy: 1.0000\n",
            "Epoch 17/20\n",
            "10/10 [==============================] - 0s 3ms/step - loss: 0.0372 - accuracy: 1.0000\n",
            "Epoch 18/20\n",
            "10/10 [==============================] - 0s 3ms/step - loss: 0.0353 - accuracy: 1.0000\n",
            "Epoch 19/20\n",
            "10/10 [==============================] - 0s 2ms/step - loss: 0.0352 - accuracy: 1.0000\n",
            "Epoch 20/20\n",
            "10/10 [==============================] - 0s 3ms/step - loss: 0.0330 - accuracy: 1.0000\n"
          ]
        },
        {
          "output_type": "execute_result",
          "data": {
            "text/plain": [
              "<keras.src.callbacks.History at 0x78375f1e2410>"
            ]
          },
          "metadata": {},
          "execution_count": 15
        }
      ]
    },
    {
      "cell_type": "code",
      "source": [
        "# Modell mit einem Beispiel testen\n",
        "test_digit = np.array([[1, 0, 1],\n",
        "                        [1, 0, 1],\n",
        "                        [1, 1, 1],\n",
        "                        [0, 0, 1],\n",
        "                        [1, 1, 1]])\n",
        "\n",
        "test_digit = np.expand_dims(test_digit, axis=0)  # Füge eine Dimension hinzu, um das Batch-Format zu erhalten\n",
        "test_digit = np.expand_dims(test_digit, axis=-1)  # Füge eine Dimension hinzu für den Farbkanal\n",
        "\n",
        "prediction = model.predict(test_digit)\n",
        "predicted_digit = np.argmax(prediction)\n",
        "\n",
        "print(\"Vorhersage:\", predicted_digit)"
      ],
      "metadata": {
        "colab": {
          "base_uri": "https://localhost:8080/"
        },
        "id": "4EZW74IBRcNf",
        "outputId": "1594acc1-2b74-4e38-f721-37b9bad57d6d"
      },
      "execution_count": null,
      "outputs": [
        {
          "output_type": "stream",
          "name": "stdout",
          "text": [
            "1/1 [==============================] - 0s 20ms/step\n",
            "Vorhersage: 9\n"
          ]
        }
      ]
    }
  ]
}